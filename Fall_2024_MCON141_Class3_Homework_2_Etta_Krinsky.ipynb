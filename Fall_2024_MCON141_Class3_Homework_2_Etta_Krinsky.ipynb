{
  "cells": [
    {
      "cell_type": "markdown",
      "id": "cd91769c",
      "metadata": {
        "id": "cd91769c"
      },
      "source": [
        "\n",
        "# MCON 141 — Class 3 Homework\n",
        "\n",
        "Welcome! 🌟 This homework is designed to help you feel confident with **decision structures** and **boolean logic**.  \n",
        "You’ll use `if / elif / else`, nested `if` where helpful, and the operators `and`, `or`, and `not`.  \n",
        "We’re **not** using loops yet (`while`, `for`) — everything here can be done with straight‑line code.\n",
        "\n",
        "Additionally, although I am giving you this homework within Jupyter, feel free to work on this in an IDE such as IDLE or PyCharm, and submit the answers here.\n",
        "\n",
        "### How to approach this set\n",
        "- Work one problem at a time. Run your cell, read the output, and refine.\n",
        "- Be kind to yourself — it’s normal to try, run, and adjust as you go.\n",
        "- When taking user input, please **validate it** with `try/except` and use `raise ValueError` for out‑of‑range or invalid options.\n",
        "- Use f‑strings for friendly, clear messages (e.g., `print(f\"Final price: ${price:.2f}\")`).\n",
        "\n",
        "If you get stuck, read the **gentle hints** included after many prompts. You’ve got this! 💪\n"
      ]
    },
    {
      "cell_type": "markdown",
      "id": "6af8aabf",
      "metadata": {
        "id": "6af8aabf"
      },
      "source": [
        "\n",
        "**Validation rules (for all problems)**  \n",
        "- If a numeric input is not a number → handle with `except ValueError`.\n",
        "- If a numeric input is outside the allowed range → `raise ValueError(\"...\")` and handle it.\n",
        "- If a text input isn’t one of the allowed choices (e.g., `y/n`, or `mon..sun`) → `raise ValueError(\"expected ...\")` and handle it.\n",
        "- Normalize text inputs with `.strip().lower()`.\n"
      ]
    },
    {
      "cell_type": "markdown",
      "id": "ba273b62",
      "metadata": {
        "id": "ba273b62"
      },
      "source": [
        "\n",
        "## 1) Free shipping gate\n",
        "\n",
        "**Prompt**  \n",
        "Ask for **order_total** (float) and **membership** (`\"y\"` / `\"n\"`).  \n",
        "Free shipping rules:  \n",
        "- Free if `order_total >= 60` **or** membership is `\"y\"` **and** `order_total >= 40`.  \n",
        "- Otherwise, no free shipping.\n",
        "\n",
        "**Your task**  \n",
        "- Validate inputs (see rules above).  \n",
        "- Print exactly `\"Free shipping\"` or `\"No free shipping\"`.  \n",
        "\n",
        "*Gentle hint:* It can help to create a boolean like `is_member = (membership == \"y\")` before your `if`.\n"
      ]
    },
    {
      "cell_type": "code",
      "execution_count": 9,
      "id": "d9d440a9",
      "metadata": {
        "colab": {
          "base_uri": "https://localhost:8080/"
        },
        "id": "d9d440a9",
        "outputId": "6dec41e4-0921-48ea-9821-95edb3564a09"
      },
      "outputs": [
        {
          "output_type": "stream",
          "name": "stdout",
          "text": [
            "What is the order total? 50\n",
            "Are you a member? y\n",
            "Free Shipping\n"
          ]
        }
      ],
      "source": [
        "def Free_Shipping_Gate():\n",
        "  Total = float(input(\"What is the order total? \"))\n",
        "  Membership = input(\"Are you a member? \")\n",
        "  if Total >= 60 and Membership == \"n\":\n",
        "    print(\"Free Shipping\")\n",
        "  elif Membership == \"y\" and Total >= 40:\n",
        "    print(\"Free Shipping\")\n",
        "  else:\n",
        "    print(\"No Free Shipping\")\n",
        "Free_Shipping_Gate()\n",
        "# YOUR CODE HERE\n",
        "# 1) Read inputs (order_total, membership) with validation.\n",
        "# 2) Decide based on the rule; print the exact message.\n"
      ]
    },
    {
      "cell_type": "markdown",
      "id": "2b6be3c3",
      "metadata": {
        "id": "2b6be3c3"
      },
      "source": [
        "\n",
        "## 2) Triangle validity & type\n",
        "\n",
        "**Prompt**  \n",
        "Ask for three side lengths **a**, **b**, **c** (floats).  \n",
        "- First, validate that all are **> 0**.  \n",
        "- Then check triangle inequality: `a + b > c`, `a + c > b`, `b + c > a`.  \n",
        "  - If invalid → print `\"Not a triangle\"` and stop.  \n",
        "- If valid, print **exactly one** of: `\"Equilateral\"`, `\"Isosceles\"`, `\"Scalene\"`.\n",
        "\n",
        "**Your task**  \n",
        "- Validate numeric conversion and positivity.  \n",
        "- Implement the checks carefully and choose exactly one type to print.\n",
        "\n",
        "*Gentle hint:* Check validity first; only classify if valid.\n",
        "\n",
        "**Support for triangles **\n",
        "\n",
        "A triangle is Equilateral if All three sides are equal:\n",
        "a == b == c\n",
        "\n",
        "Isosceles : Exactly two sides are equal:\n",
        "(a == b or a == c or b == c) but not all three equal\n",
        "\n",
        "Scalene : All three sides are different:\n",
        "a != b and a != c and b != c\n",
        "\n",
        "\n"
      ]
    },
    {
      "cell_type": "code",
      "execution_count": 13,
      "id": "61ea08e9",
      "metadata": {
        "colab": {
          "base_uri": "https://localhost:8080/"
        },
        "id": "61ea08e9",
        "outputId": "785d861d-c816-4680-d71c-86acb7ec9988"
      },
      "outputs": [
        {
          "output_type": "stream",
          "name": "stdout",
          "text": [
            "What is the length of side a? 45\n",
            "What is the length of side b? 65\n",
            "What is the length of side c? 75\n",
            "Scalene Triangle\n"
          ]
        }
      ],
      "source": [
        "def Triangle_Validity_and_Type():\n",
        "  a = float(input(\"What is the length of side a? \"))\n",
        "  b = float(input(\"What is the length of side b? \"))\n",
        "  c = float(input(\"What is the length of side c? \"))\n",
        "  if a <= 0 or b <= 0 or c <= 0:\n",
        "    print(\"Not a Triangle\")\n",
        "  else:\n",
        "      if a+b > c and a+c > b and b+c > a:\n",
        "        if a == b == c:\n",
        "          print(\"Equilateral Triangle\")\n",
        "        elif a == b or a == c or b == c:\n",
        "          print(\"Isosceles Triangle\")\n",
        "        else:\n",
        "          print(\"Scalene Triangle\")\n",
        "      else:\n",
        "        print(\"Not a Triangle\")\n",
        "Triangle_Validity_and_Type()\n",
        "# YOUR CODE HERE\n",
        "# 1) Inputs a, b, c with validation\n",
        "# 2) If invalid -> print(\"Not a triangle\")\n",
        "# 3) Else -> choose exactly one triangle type\n"
      ]
    },
    {
      "cell_type": "markdown",
      "id": "38d6cf49",
      "metadata": {
        "id": "38d6cf49"
      },
      "source": [
        "\n",
        "## 3) Library access hours with membership override\n",
        "\n",
        "**Prompt**  \n",
        "Ask for **hour** (int, 0–23) and **member** (`\"y\"`/`\"n\"`).  \n",
        "- Open to **everyone** from 9–20 inclusive.  \n",
        "- Open to **members only** at hours 7–8 and 21–22.  \n",
        "- Otherwise, **Closed**.\n",
        "\n",
        "**Your task**  \n",
        "- Validate inputs.  \n",
        "- Print **exactly one** of: `\"Open to all\"`, `\"Open to members\"`, `\"Closed\"`.\n",
        "\n",
        "*Gentle hint:* Think of this as a small decision tree. Check the “open to all” window first.\n"
      ]
    },
    {
      "cell_type": "code",
      "execution_count": 18,
      "id": "ea753771",
      "metadata": {
        "colab": {
          "base_uri": "https://localhost:8080/"
        },
        "id": "ea753771",
        "outputId": "425f583b-5a9a-4568-c258-5508075a6577"
      },
      "outputs": [
        {
          "output_type": "stream",
          "name": "stdout",
          "text": [
            "What hour is it? 23\n",
            "Are you a member? (yes/no)yes\n",
            "Closed. Hope to see you next time!\n"
          ]
        }
      ],
      "source": [
        "def Library_Access_Hours_with_Membership_Override():\n",
        "  Hour = int(input(\"What hour is it? \"))\n",
        "  Member = input(\"Are you a member? (yes/no)\")\n",
        "  if Hour >= 9 and Hour <= 20:\n",
        "    print(\"Open to All. Welcome!\")\n",
        "  elif Member == \"yes\" and Hour == 7 or Hour == 8 or Hour == 21 or Hour == 22:\n",
        "    print(\"Open to Members. Welcome Members!\")\n",
        "  else:\n",
        "    print(\"Closed. Hope to see you next time!\")\n",
        "Library_Access_Hours_with_Membership_Override()\n",
        "# YOUR CODE HERE\n",
        "# 1) Validate hour and member\n",
        "# 2) Decide and print one of the three messages\n"
      ]
    },
    {
      "cell_type": "markdown",
      "id": "bbd08bb4",
      "metadata": {
        "id": "bbd08bb4"
      },
      "source": [
        "\n",
        "## 4) Temperature banding\n",
        "\n",
        "**Prompt**  \n",
        "Ask for **temp** (int) and categorize into exactly one label:  \n",
        "- `temp <= 0` → `\"Freezing\"`  \n",
        "- `1–15` → `\"Cold\"`  \n",
        "- `16–25` → `\"Mild\"`  \n",
        "- `26–32` → `\"Warm\"`  \n",
        "- `>= 33` → `\"Hot\"`\n",
        "\n",
        "**Your task**  \n",
        "- Validate integer input.  \n",
        "- Make sure **only one** label is printed.\n",
        "\n",
        "*Gentle hint:* Use `elif` to avoid overlapping outputs.\n"
      ]
    },
    {
      "cell_type": "code",
      "execution_count": 23,
      "id": "5986f534",
      "metadata": {
        "colab": {
          "base_uri": "https://localhost:8080/"
        },
        "id": "5986f534",
        "outputId": "7db5a5b3-5960-49f2-91bb-9cfe9818fd46"
      },
      "outputs": [
        {
          "output_type": "stream",
          "name": "stdout",
          "text": [
            "What is the temperature? 17\n",
            "Mild\n"
          ]
        }
      ],
      "source": [
        "def Temperature_Banding():\n",
        "  Temp = int(input(\"What is the temperature? \"))\n",
        "  if Temp <= 0:\n",
        "    print(\"Freezing!\")\n",
        "  elif Temp >= 1 and Temp <= 15:\n",
        "    print(\"Cold. Brrr\")\n",
        "  elif Temp >= 16 and Temp <= 25:\n",
        "    print(\"Mild\")\n",
        "  elif Temp >= 26 and Temp <= 32:\n",
        "    print(\"Warm. Come Play Outside!\")\n",
        "  else:\n",
        "    print(\"Hot\")\n",
        "Temperature_Banding()\n",
        "# YOUR CODE HERE\n",
        "# 1) Validate temp (int)\n",
        "# 2) Choose exactly one label to print\n"
      ]
    },
    {
      "cell_type": "markdown",
      "id": "904b40ac",
      "metadata": {
        "id": "904b40ac"
      },
      "source": [
        "\n",
        "## 5) Street parking rules\n",
        "\n",
        "**Prompt**  \n",
        "Ask for **day** (`\"mon\"...\"sun\"`), **hour** (0–23), and **holiday** (`\"y\"/\"n\"`).  \n",
        "- **No parking** on weekdays during rush hours: 7–10 and 16–19, **unless** it is a holiday.  \n",
        "- Parking is allowed at all other times (including weekends).\n",
        "\n",
        "**Your task**  \n",
        "- Validate inputs.  \n",
        "- Print exactly `\"Parking allowed\"` **or** `\"No parking\"`.\n",
        "\n",
        "*Gentle hint:* Consider booleans like `is_weekday = day in {...}` and `rush = (7 <= hour <= 10) or (16 <= hour <= 19)`.\n"
      ]
    },
    {
      "cell_type": "code",
      "execution_count": 31,
      "id": "ccbba117",
      "metadata": {
        "colab": {
          "base_uri": "https://localhost:8080/"
        },
        "id": "ccbba117",
        "outputId": "e2401457-d20c-4586-84a4-5b54fb1b7414"
      },
      "outputs": [
        {
          "output_type": "stream",
          "name": "stdout",
          "text": [
            "What day of the week is it? (Sun/Mon/Tues/Wed/Thurs/Fri/Sat) Sun\n",
            "What hour is it? (0-23) 14\n",
            "Is it a legal holiday? (yes/no) no\n",
            "Parking Allowed\n"
          ]
        }
      ],
      "source": [
        "def Street_Parking_Rules():\n",
        "  Day = input(\"What day of the week is it? (Sun/Mon/Tues/Wed/Thurs/Fri/Sat) \")\n",
        "  Time = int(input(\"What hour is it? (0-23) \"))\n",
        "  Holiday = input(\"Is it a legal holiday? (yes/no) \")\n",
        "  if (Holiday == \"yes\") or (Day == \"Sat\") or (Day == \"Sun\"):\n",
        "    print(\"Parking Allowed\")\n",
        "  elif Holiday == \"no\" or Day != \"Sat\" or Day != \"Sun\":\n",
        "    if (Time >= 7 and Time <= 10) or (Time >= 16 and Time <= 19):\n",
        "      print(\"No Parking\")\n",
        "    else:\n",
        "      print(\"Parking Allowed\")\n",
        "  else:\n",
        "    print(\"Parking Allowed\")\n",
        "Street_Parking_Rules()\n",
        "# YOUR CODE HERE\n",
        "# 1) Validate day/hour/holiday\n",
        "# 2) Decide and print the exact message\n"
      ]
    },
    {
      "cell_type": "markdown",
      "id": "5dc3c3fa",
      "metadata": {
        "id": "5dc3c3fa"
      },
      "source": [
        "\n",
        "## 6) Grade with curve boundaries\n",
        "\n",
        "**Prompt**  \n",
        "Ask for **raw** (float, 0–100) and **curve** (int, can be negative).  \n",
        "- Compute `final = raw + curve`.  \n",
        "- Clamp to [0, 100].  \n",
        "- Print a single letter:\n",
        "  - `>= 90`: `\"A\"`\n",
        "  - `80–89`: `\"B\"`\n",
        "  - `70–79`: `\"C\"`\n",
        "  - `60–69`: `\"D\"`\n",
        "  - else: `\"F\"`\n",
        "\n",
        "**Your task**  \n",
        "- Validate inputs; clamp carefully; print one letter.\n",
        "\n",
        "*Gentle hint:* After adding, use small checks like `if final < 0: final = 0`.\n"
      ]
    },
    {
      "cell_type": "code",
      "execution_count": 37,
      "id": "0598e54f",
      "metadata": {
        "colab": {
          "base_uri": "https://localhost:8080/"
        },
        "id": "0598e54f",
        "outputId": "1acc278d-6bfd-471c-efa8-1ee26a44e8b8"
      },
      "outputs": [
        {
          "output_type": "stream",
          "name": "stdout",
          "text": [
            "What is the raw grade? 93\n",
            "What is the curve? 2\n",
            "95\n",
            "A\n"
          ]
        }
      ],
      "source": [
        "def Grade_With_Curve():\n",
        "  Raw = float(input(\"What is the raw grade? \"))\n",
        "  Curve = int(input(\"What is the curve? \"))\n",
        "  Final = Raw + Curve\n",
        "  print(int(Final))\n",
        "  if Final < 0:\n",
        "    Final = 0\n",
        "  elif Final > 100:\n",
        "    Final = 100\n",
        "  elif Final >= 90:\n",
        "    print(\"A\")\n",
        "  elif Final >= 80 and Final <= 89:\n",
        "    print(\"B\")\n",
        "  elif Final >= 70 and Final <= 79:\n",
        "    print(\"C\")\n",
        "  elif Final >= 60 and Final <= 69:\n",
        "    print(\"D\")\n",
        "  else:\n",
        "    print(\"F\")\n",
        "Grade_With_Curve()\n",
        "# YOUR CODE HERE\n",
        "# 1) Validate raw/curve\n",
        "# 2) Clamp 0..100\n",
        "# 3) Print one letter\n"
      ]
    },
    {
      "cell_type": "markdown",
      "id": "87c88705",
      "metadata": {
        "id": "87c88705"
      },
      "source": [
        "\n",
        "## 7) Palindrome (straight‑line, no loops)\n",
        "\n",
        "**Prompt**  \n",
        "Ask for **text** (string). Normalize by stripping outer spaces and lowercasing.  \n",
        "If the text reads the same forwards and backwards, print `\"Palindrome\"`; otherwise, print `\"Not palindrome\"`.\n",
        "\n",
        "**Your task**  \n",
        "- No loops needed; slicing is okay (`[::-1]`).  \n",
        "- Keep messages exact.\n",
        "\n",
        "*Gentle hint:* Compare the normalized string to its reversed version.\n",
        "\n",
        "** Support **\n",
        "A palindrome check can be done with just string basics:\n",
        "\n",
        "- .strip() → remove spaces at the edges\n",
        "\n",
        "- .lower() → normalize case\n",
        "\n",
        "- [::-1] → reverses the string\n",
        "- example of string reversal :  my_str == \"cat\" then my_str[::-1] == \"tac\"\n",
        "- my_str_reveresed = my_str[::-1]\n"
      ]
    },
    {
      "cell_type": "code",
      "execution_count": 44,
      "id": "f3a3d82a",
      "metadata": {
        "colab": {
          "base_uri": "https://localhost:8080/"
        },
        "id": "f3a3d82a",
        "outputId": "a03a2520-f0b7-4794-c76a-6801c96ea110"
      },
      "outputs": [
        {
          "output_type": "stream",
          "name": "stdout",
          "text": [
            "Please insert your text  Otto\n",
            "Palindrome\n"
          ]
        }
      ],
      "source": [
        "def Palindrome_Test():\n",
        "  Text = (input(\"Please insert your text \")).strip().lower()\n",
        "  Text_Reversed = Text[::-1]\n",
        "  if Text == Text_Reversed:\n",
        "    print(\"Palindrome\")\n",
        "  else:\n",
        "    print(\"Not Palindrome\")\n",
        "Palindrome_Test()\n",
        "# YOUR CODE HERE\n",
        "# 1) Read and normalize text\n",
        "# 2) Compare to reversed and print the message\n"
      ]
    },
    {
      "cell_type": "markdown",
      "id": "2953a6f6",
      "metadata": {
        "id": "2953a6f6"
      },
      "source": [
        "\n",
        "## 8) Function practice — `is_palindrome(text) -> bool\n",
        "\n",
        "You’ll write a **small** helper function, then use it.  \n",
        "It’s okay if functions are new — follow the scaffold and you’ll be fine!\n",
        "\n",
        "**Steps**\n",
        "1. Implement `is_palindrome(text)` that returns `True` if `text.strip().lower()` equals its reversed version, else `False`.\n",
        "2. Then, outside the function, prompt the user and print `\"Palindrome\"` or `\"Not palindrome\"` based on the function’s result.\n",
        "\n",
        "*Gentle hint:* Start by writing the function body with a placeholder `return False`, then improve it.\n"
      ]
    },
    {
      "cell_type": "code",
      "execution_count": 52,
      "id": "b9986d4a",
      "metadata": {
        "colab": {
          "base_uri": "https://localhost:8080/"
        },
        "id": "b9986d4a",
        "outputId": "6e6476d3-f80f-4686-c6f2-56a5bd5e2e4e"
      },
      "outputs": [
        {
          "name": "stdout",
          "output_type": "stream",
          "text": [
            "Please Insert Your Text: Otto\n"
          ]
        },
        {
          "output_type": "execute_result",
          "data": {
            "text/plain": [
              "True"
            ]
          },
          "metadata": {},
          "execution_count": 52
        }
      ],
      "source": [
        "\n",
        "def is_palindrome():\n",
        "    \"\"\"Return True if text is a palindrome after strip+lower, else False.\"\"\"\n",
        "    text = input(\"Please Insert Your Text: \")\n",
        "    # TODO: normalize text (strip + lower)\n",
        "    text = text.strip().lower()\n",
        "    # TODO: compare with reversed (slicing is ok)\n",
        "    if text == text[::-1]:\n",
        "      return True\n",
        "    else:\n",
        "      return False\n",
        "    # TODO: return True/False\n",
        "\n",
        "# YOUR CODE HERE\n",
        "# 1) Prompt for input\n",
        "\n",
        "# 2) Call is_palindrome and print the correct message\n",
        "is_palindrome()"
      ]
    },
    {
      "cell_type": "markdown",
      "id": "8e72d89c",
      "metadata": {
        "id": "8e72d89c"
      },
      "source": [
        "\n",
        "## 9) Function practice — `parking_allowed(day, hour, holiday) -> bool`\n",
        "\n",
        "Let’s package the parking policy into a small function and then use it.\n",
        "\n",
        "**Policy reminder**  \n",
        "- **No parking** on weekdays during 7–10 and 16–19, **unless** it is a holiday.  \n",
        "- Parking is allowed at all other times (including weekends).\n",
        "\n",
        "**Steps**\n",
        "1. Implement `parking_allowed(day, hour, holiday)` so it returns `True` when parking is allowed, `False` otherwise.\n",
        "2. Then prompt for inputs, **validate them**, and print `\"Parking allowed\"` or `\"No parking\"`.\n",
        "\n",
        "*Gentle hint:* Booleans like `is_weekday` and `rush` make your `if` very readable.\n"
      ]
    },
    {
      "cell_type": "code",
      "execution_count": 67,
      "id": "11240051",
      "metadata": {
        "colab": {
          "base_uri": "https://localhost:8080/"
        },
        "id": "11240051",
        "outputId": "1c203223-aeb1-4f45-f1b8-7594aa07f8fb"
      },
      "outputs": [
        {
          "output_type": "stream",
          "name": "stdout",
          "text": [
            "What day of the week is it? (mon/tue/wed/thu/fri/sat/sun) sun\n",
            "What hour is it? (0-23) 14\n",
            "Is it a legal holiday? (y/n) y\n",
            "Parking allowed\n"
          ]
        }
      ],
      "source": [
        "def parking_allowed(day, hour, holiday):\n",
        "    \"\"\"Return True if parking is allowed under the policy; else False.\n",
        "    day: 'mon'..'sun', hour: 0..23, holiday: 'y' or 'n'\n",
        "    \"\"\"\n",
        "    # TODO: implement using and/or/not\n",
        "    is_weekday = day.lower() in ['mon', 'tue', 'wed', 'thu', 'fri']\n",
        "    is_rush_hour = (hour >= 7 and hour <= 10) or (hour >= 16 and hour <= 19)\n",
        "    is_holiday = holiday.lower() == 'y'\n",
        "\n",
        "    if is_holiday:\n",
        "        return True\n",
        "    elif is_weekday and is_rush_hour:\n",
        "        return False\n",
        "    else:\n",
        "        return True\n",
        "\n",
        "# YOUR CODE HERE\n",
        "# 1) Prompt and validate inputs\n",
        "while True:\n",
        "  try:\n",
        "    day = input(\"What day of the week is it? (mon/tue/wed/thu/fri/sat/sun) \").strip().lower()\n",
        "    if day not in ['mon', 'tue', 'wed', 'thu', 'fri', 'sat', 'sun']:\n",
        "      raise ValueError(\"expected mon/tue/wed/thu/fri/sat/sun\")\n",
        "\n",
        "    hour = int(input(\"What hour is it? (0-23) \"))\n",
        "    if not (0 <= hour <= 23):\n",
        "      raise ValueError(\"expected hour 0-23\")\n",
        "\n",
        "    holiday = input(\"Is it a legal holiday? (y/n) \").strip().lower()\n",
        "    if holiday not in ['y', 'n']:\n",
        "      raise ValueError(\"expected y/n\")\n",
        "\n",
        "    break\n",
        "  except ValueError as e:\n",
        "    print(f\"Invalid input: {e}\")\n",
        "\n",
        "\n",
        "# 2) Call parking_allowed and print the exact message\n",
        "if parking_allowed(day, hour, holiday):\n",
        "  print(\"Parking allowed\")\n",
        "else:\n",
        "  print(\"No parking\")"
      ]
    },
    {
      "cell_type": "markdown",
      "id": "8a8cef39",
      "metadata": {
        "id": "8a8cef39"
      },
      "source": [
        "\n",
        "## 10) Mini‑Project (No Loops): Cinema Entry & Pricing Decision Engine\n",
        "\n",
        "This is a friendly, single‑run decision engine — no loops needed. You’ll determine **entry permission** and a **final ticket price** based on the rules.\n",
        "\n",
        "**Inputs to gather and validate (in this order)**  \n",
        "1. **age** (int, 0–120)  \n",
        "2. **day** (`mon, tue, wed, thu, fri, sat, sun`)  \n",
        "3. **hour** (int 0–23) — cinema is open to **everyone** 10–22 inclusive; **members only** at 9 and 23  \n",
        "4. **holiday** (`y/n`)  \n",
        "5. **member** (`y/n`)  \n",
        "6. **student** (`y/n`)  \n",
        "7. **base_price** (float ≥ 0)  \n",
        "8. **coupon10** (`y/n`)  \n",
        "9. **coupon15** (`y/n`)\n",
        "\n",
        "**Access Policy**  \n",
        "- If holiday → `\"Entry allowed\"` any time.  \n",
        "- Otherwise:  \n",
        "  - 10–22 → `\"Entry allowed\"`  \n",
        "  - 9 or 23 → `\"Entry allowed (members only hours)\"` **if** member is `\"y\"`; otherwise `\"Closed\"`  \n",
        "  - All other hours → `\"Closed\"`  \n",
        "If closed, print the access message and stop.\n",
        "\n",
        "**Discounts (apply at most one in this order)**  \n",
        "1) If both coupons are `\"y\"` → print `\"Invalid: cannot stack\"` and **do not use any coupon** (you may still use age/student/member rule below).  \n",
        "2) Else if `coupon15 == \"y\"` and `base_price >= 80` → 15% off.  \n",
        "3) Else if `coupon10 == \"y\"` and `base_price >= 50` → 10% off.  \n",
        "4) Else if age < 12 or age >= 65 → 20% off.  \n",
        "5) Else if student == \"y\" or member == \"y\" → 10% off.  \n",
        "6) Else → no discount.\n",
        "\n",
        "**Output**  \n",
        "- Print the entry result first. If allowed, print a **pricing summary** (base, discount applied, final) with two decimals using f‑strings.\n",
        "\n",
        "*Gentle hints*  \n",
        "- Create helpful booleans like `is_holiday`, `is_member`, etc.  \n",
        "- Use `f\"{price:.2f}\"` for two decimal places.  \n",
        "- Take your time, and test a few scenarios to see each branch work.\n"
      ]
    },
    {
      "cell_type": "code",
      "execution_count": 75,
      "id": "b51d7e1b",
      "metadata": {
        "colab": {
          "base_uri": "https://localhost:8080/"
        },
        "id": "b51d7e1b",
        "outputId": "c92b2f18-d796-45b0-9e95-50cbc78e9c56"
      },
      "outputs": [
        {
          "output_type": "stream",
          "name": "stdout",
          "text": [
            "What is your age? 20\n",
            "What day of the week is it? (Sun/Mon/Tue/Wed/Thurs/Fri/Sat) Sun\n",
            "What hour is it? (0-23) 15\n",
            "Is it a legal holiday? (Yes/No) No\n",
            "Are you a member? (Yes/No) no\n",
            "Are you a student? (Yes/No) yes\n",
            "What is the base price? 85\n",
            "Do you have a 10% off coupon? (Yes/No) yes\n",
            "Do you have a 15% off coupon? (Yes/No) no\n",
            "Entry allowed\n",
            "Base Price: $85.00\n",
            "Discount Applied: $8.50\n",
            "Final Price: $76.50\n"
          ]
        }
      ],
      "source": [
        "\n",
        "# YOUR CODE HERE\n",
        "def Cinema_Entry_and_Pricing_Decision_Engine():\n",
        "# 1) Gather and validate inputs (try/except + raise ValueError for issues)\n",
        "  Age = int(input(\"What is your age? \"))\n",
        "  if Age < 0 or Age > 120:\n",
        "    raise ValueError(\"Age must be between 0 and 120\")\n",
        "  Day = input(\"What day of the week is it? (Sun/Mon/Tue/Wed/Thurs/Fri/Sat) \").strip().lower()\n",
        "  if Day not in ['sun', 'mon', 'tue', 'wed', 'thurs', 'fri', 'sat']:\n",
        "    raise ValueError(\"Invalid day of the week\")\n",
        "  Hour = int(input(\"What hour is it? (0-23) \"))\n",
        "  if Hour < 0 or Hour > 23:\n",
        "    raise ValueError(\"Hour must be between 0 and 23\")\n",
        "  Holiday = input(\"Is it a legal holiday? (Yes/No) \").strip().lower()\n",
        "  if Holiday not in ['yes', 'no']:\n",
        "    raise ValueError(\"Invalid holiday input\")\n",
        "  Member = input(\"Are you a member? (Yes/No) \").strip().lower()\n",
        "  if Member not in ['yes', 'no']:\n",
        "    raise ValueError(\"Invalid member input\")\n",
        "  Student = input(\"Are you a student? (Yes/No) \").strip().lower()\n",
        "  if Student not in ['yes', 'no']:\n",
        "    raise ValueError(\"Invalid student input\")\n",
        "  Base_Price = float(input(\"What is the base price? \"))\n",
        "  if Base_Price < 0:\n",
        "    raise ValueError(\"Base Price must be greater than 0\")\n",
        "  Coupon10 = input(\"Do you have a 10% off coupon? (Yes/No) \")\n",
        "  Coupon15 = input(\"Do you have a 15% off coupon? (Yes/No) \")\n",
        "\n",
        "# 2) Decide entry\n",
        "  if Holiday == \"yes\" :\n",
        "    print(\"Entry allowed\")\n",
        "  else:\n",
        "    if Hour >= 10 and Hour <= 22:\n",
        "      print(\"Entry allowed\")\n",
        "    elif Hour == 9 or Hour == 23:\n",
        "      if Member == \"yes\" :\n",
        "        print(\"Entry allowed (members only hours)\")\n",
        "      else:\n",
        "        print(\"Closed\")\n",
        "# 3) If allowed, apply the discount rules in the given order (at most one discount category)\n",
        "  if Coupon10 == \"yes\" and Coupon15 == \"yes\":\n",
        "    print(\"Invalid: cannot stack\")\n",
        "    Discount_Applied = 0\n",
        "  elif Coupon15 == \"yes\" and Base_Price >= 80:\n",
        "    Discount_Applied = Base_Price * 0.15\n",
        "    Final_Price = Base_Price - Discount_Applied\n",
        "    print(f\"Base Price: ${Base_Price:.2f}\")\n",
        "    print(f\"Discount Applied: ${Discount_Applied:.2f}\")\n",
        "    print(f\"Final Price: ${Final_Price:.2f}\")\n",
        "  elif Coupon10 == \"yes\" and Base_Price >= 50:\n",
        "    Discount_Applied = Base_Price * 0.1\n",
        "    Final_Price = Base_Price - Discount_Applied\n",
        "    print(f\"Base Price: ${Base_Price:.2f}\")\n",
        "    print(f\"Discount Applied: ${Discount_Applied:.2f}\")\n",
        "    print(f\"Final Price: ${Final_Price:.2f}\")\n",
        "  elif Age < 12 or Age >= 65:\n",
        "    Discount_Applied = Base_Price * 0.2\n",
        "    Final_Price = Base_Price - Discount_Applied\n",
        "    print(f\"Base Price: ${Base_Price:.2f}\")\n",
        "    print(f\"Discount Applied: ${Discount_Applied:.2f}\")\n",
        "  elif Student == \"yes\" or Member == \"yes\":\n",
        "    Discount_Applied = Base_Price * 0.1\n",
        "    Final_Price = Base_Price - Discount_Applied\n",
        "    print(f\"Base Price: ${Base_Price:.2f}\")\n",
        "    print(f\"Discount Applied: ${Discount_Applied:.2f}\")\n",
        "    print(f\"Final Price: ${Final_Price:.2f}\")\n",
        "  else:\n",
        "    Discount_Applied = 0\n",
        "    Final_Price = Base_Price\n",
        "    print(f\"Final Price: ${Final_Price:.2f}\")\n",
        "\n",
        "# 4) Print a clear summary with two-decimal formatting\n",
        "Cinema_Entry_and_Pricing_Decision_Engine()"
      ]
    },
    {
      "cell_type": "markdown",
      "id": "ca529e29",
      "metadata": {
        "id": "ca529e29"
      },
      "source": [
        "\n",
        "---\n",
        "\n",
        "### You’re doing great 💫\n",
        "Remember: learning conditionals is about clear thinking and small steps.  \n",
        "Celebrate each little win, and don’t hesitate to re-run cells as you refine your code.\n"
      ]
    }
  ],
  "metadata": {
    "kernelspec": {
      "display_name": "Python 3",
      "language": "python",
      "name": "python3"
    },
    "language_info": {
      "name": "python",
      "version": "3.x"
    },
    "colab": {
      "provenance": []
    }
  },
  "nbformat": 4,
  "nbformat_minor": 5
}